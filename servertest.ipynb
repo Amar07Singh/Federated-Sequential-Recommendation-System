{
 "cells": [
  {
   "cell_type": "code",
   "execution_count": null,
   "metadata": {},
   "outputs": [],
   "source": [
    "from src.model import FARF\n",
    "import torch\n",
    "import json\n",
    "import pickle"
   ]
  },
  {
   "cell_type": "code",
   "execution_count": 2,
   "metadata": {},
   "outputs": [],
   "source": [
    "usernum = 311143\n",
    "itemnum = 86678\n",
    "\n",
    "arg_handler = {\n",
    "  \"dataset\": \"Movies_and_TV\",\n",
    "  \"batch_size\": 128,\n",
    "  \"lr\": 0.001,\n",
    "  \"maxlen\": 50,\n",
    "  \"hidden_units\": 50,\n",
    "  \"num_blocks\": 2,\n",
    "  \"num_epochs\": 200,\n",
    "  \"num_heads\": 1,\n",
    "  \"dropout_rate\": 0.5,\n",
    "  \"l2_emb\": 0.0,\n",
    "  \"device\": \"cuda\",\n",
    "  \"inference_only\": False,\n",
    "  \"state_dict_path\": \"./tmp/nvflare/jobs/workdir/server/simulate_job/app_server/FL_global_model.pt\"\n",
    "}\n",
    "arg_handler=json.dumps(arg_handler)\n",
    "l = arg_handler.replace('\"', '&')[1:-1]"
   ]
  },
  {
   "cell_type": "code",
   "execution_count": 3,
   "metadata": {},
   "outputs": [],
   "source": [
    "device = torch.device(\"cuda\" if torch.cuda.is_available() else \"cpu\")\n",
    "# device = torch.device(\"cpu\")"
   ]
  },
  {
   "cell_type": "code",
   "execution_count": null,
   "metadata": {},
   "outputs": [
    {
     "name": "stderr",
     "output_type": "stream",
     "text": [
      "/tmp/ipykernel_8081/1398664656.py:3: FutureWarning: You are using `torch.load` with `weights_only=False` (the current default value), which uses the default pickle module implicitly. It is possible to construct malicious pickle data which will execute arbitrary code during unpickling (See https://github.com/pytorch/pytorch/blob/main/SECURITY.md#untrusted-models for more details). In a future release, the default value for `weights_only` will be flipped to `True`. This limits the functions that could be executed during unpickling. Arbitrary objects will no longer be allowed to be loaded via this mode unless they are explicitly allowlisted by the user via `torch.serialization.add_safe_globals`. We recommend you start setting `weights_only=True` for any use case where you don't have full control of the loaded file. Please open an issue on GitHub for any issues related to this experimental feature.\n",
      "  checkpoint = torch.load(model_file, map_location=device)\n"
     ]
    },
    {
     "data": {
      "text/plain": [
       "<All keys matched successfully>"
      ]
     },
     "execution_count": 4,
     "metadata": {},
     "output_type": "execute_result"
    }
   ],
   "source": [
    "model_file=r'./tmp/nvflare/jobs/workdir/server/simulate_job/app_server/FL_global_model.pt'\n",
    "\n",
    "checkpoint = torch.load(model_file, map_location=device)\n",
    "model = FARF(usernum,itemnum,l).to(device)\n",
    "model.load_state_dict(checkpoint['model'])"
   ]
  },
  {
   "cell_type": "code",
   "execution_count": null,
   "metadata": {},
   "outputs": [],
   "source": [
    "# UserID, Sequence, ItemIndex, Predictions, Rank\n",
    "# 305207, \n",
    "# \t[0, 0, 0, 0, 0, 0, 0, 0, 0, 0, 0, 0, 0, 0, 0, 0, 0, 0, 0, 0, 0, 0, 0, 0, 0, 0, 0, 0, 0, 0, 0, 0, 0, 0, 0, 0, 0, 0, 0, 0, 0, 0, 0, 0, 51104, 45790, 49177, 49966, 50352, 53458], \n",
    "# \t [52547, 31599, 32703, 25437, 20479, 13315, 56280, 52704, 85955, 52662, 29756, 31911, 79698, 16489, 61750, 49933, 64605, 70652, 69924, 78311],\n",
    "# \t[0.014034398831427097, -0.00843794271349907, 0.0062425583600997925, -0.021150682121515274, 0.02339860424399376, 0.02057923749089241, 0.043529536575078964, -0.046149469912052155, -0.06840561330318451, 0.021176883950829506, 0.05494775250554085, -0.011853950098156929, -0.0033550970256328583, -0.022791344672441483, 0.0028973035514354706, -0.026894189417362213, -0.02559305727481842, -0.047366492450237274, 0.013816195540130138, -0.00576094351708889],\n",
    "# \t14\n",
    "# 74478, \n",
    "# \t[0, 0, 0, 0, 0, 0, 0, 0, 0, 0, 0, 0, 0, 0, 0, 0, 0, 0, 0, 0, 0, 0, 0, 0, 0, 0, 0, 0, 0, 0, 0, 0, 0, 0, 0, 0, 0, 0, 0, 6165, 7175, 1245, 2119, 9061, 9078, 9959, 11327, 7435, 63932, 14444], \n",
    "# \t [11699, 62969, 39327, 52214, 68541, 28922, 38344, 67590, 39281, 33934, 45957, 18603, 10697, 62333, 30640, 21468, 62279, 56211, 14521, 13920],\n",
    "# \t[0.07130451500415802, 0.006295578554272652, -0.02412012405693531, 0.018030131235718727, -0.07803855091333389, 0.005523396655917168, -0.06336946785449982, 0.0652109831571579, -0.025266878306865692, -0.0911010354757309, 0.0044282241724431515, -0.005840154364705086, -0.002405875828117132, -0.05036994814872742, 0.05790943652391434, 0.02612297236919403, 0.011259907856583595, -0.01798311434686184, -0.04297443479299545, -0.05080866068601608],\n",
    "# \t19\n",
    "# 73124, \n",
    "# \t[0, 0, 0, 0, 0, 0, 0, 0, 0, 0, 0, 0, 0, 0, 0, 0, 0, 0, 0, 0, 0, 0, 0, 0, 0, 0, 0, 0, 0, 0, 0, 1214, 1512, 4825, 5382, 9688, 13795, 14074, 36980, 41923, 49543, 49679, 62454, 67325, 47676, 49870, 11844, 49088, 7639, 34980], \n",
    "# \t [53179, 29395, 18136, 72978, 38950, 18289, 61605, 79563, 85150, 81429, 13107, 19957, 81811, 1573, 71240, 49052, 10025, 1648, 23363, 12473],\n",
    "# \t[0.012370611540973186, -0.017638547345995903, -0.05182530730962753, -0.0033386899158358574, 0.038269948214292526, 0.04710773378610611, -0.06912030279636383, 0.0115645881742239, -0.027894277125597, -0.05823856592178345, 0.03476325049996376, 0.03553313389420509, -0.0019336212426424026, 0.058869846165180206, 0.03597317636013031, -0.0037882179021835327, -0.01818036288022995, -0.029099993407726288, 0.004101090133190155, -0.02783121168613434],\n",
    "# \t13"
   ]
  },
  {
   "cell_type": "code",
   "execution_count": 37,
   "metadata": {},
   "outputs": [],
   "source": [
    "# Data\n",
    "user_id = 305207\n",
    "seq = [[0, 0, 0, 0, 0, 0, 0, 0, 0, 0, 0, 0, 0, 0, 0, 0, 0, 0, 0, 0, 0, 0, 0, 0, 0, 0, 0, 0, 0, 0, 0, 0, 0, 0, 0, 0, 0, 0, 0, 0, 0, 0, 0, 0, 51104, 45790, 49177, 49966, 50352, 53458]]\n",
    "item_index = [52547, 31599, 32703, 25437, 20479, 13315, 56280, 52704, 85955, 52662, 29756, 31911, 79698, 16489, 61750, 49933, 64605, 70652, 69924, 78311]\n",
    "\n",
    "# Convert data to tensors and send to device\n",
    "user_id_tensor = torch.tensor(user_id, dtype=torch.long).to(device)\n",
    "seq_tensor = torch.tensor(seq, dtype=torch.long)\n",
    "item_index_tensor = torch.tensor(item_index, dtype=torch.long)"
   ]
  },
  {
   "cell_type": "code",
   "execution_count": 53,
   "metadata": {},
   "outputs": [],
   "source": [
    "# Run prediction\n",
    "model.eval()\n",
    "model_output = model.predict(user_id_tensor, seq_tensor, item_index_tensor)"
   ]
  },
  {
   "cell_type": "code",
   "execution_count": 54,
   "metadata": {},
   "outputs": [
    {
     "data": {
      "text/plain": [
       "(tensor([[-0.9235, -0.9944, -1.3460, -2.8758,  0.1063,  0.6051, -2.5766,  0.4497,\n",
       "          -2.9068, -2.3844, -0.8307, -1.2400, -2.7310, -0.7192, -1.9576,  0.0738,\n",
       "          -2.5797, -2.4449, -2.5049, -2.9302]], device='cuda:0',\n",
       "        grad_fn=<SqueezeBackward1>),\n",
       " tensor([52547, 31599, 32703, 25437, 20479, 13315, 56280, 52704, 85955, 52662,\n",
       "         29756, 31911, 79698, 16489, 61750, 49933, 64605, 70652, 69924, 78311]))"
      ]
     },
     "execution_count": 54,
     "metadata": {},
     "output_type": "execute_result"
    }
   ],
   "source": [
    "model_output, item_index_tensor"
   ]
  },
  {
   "cell_type": "code",
   "execution_count": 51,
   "metadata": {},
   "outputs": [],
   "source": [
    "# Get the ranks by sorting the model output\n",
    "_, ranks = torch.sort(model_output.to('cpu'), descending=True)\n",
    "\n",
    "# Sort item_index_tensor based on the rank\n",
    "sorted_item_index_tensor = item_index_tensor[ranks]\n",
    "\n",
    "sorted_items = sorted_item_index_tensor[0].tolist()"
   ]
  },
  {
   "cell_type": "code",
   "execution_count": 104,
   "metadata": {
    "vscode": {
     "languageId": "ruby"
    }
   },
   "outputs": [],
   "source": [
    "# Define the element to find\n",
    "element_to_find = item_index[0]\n",
    "\n",
    "# Find the position of the element in sorted_item_index_tensor\n",
    "position = torch.nonzero(sorted_item_index_tensor[0] == element_to_find, as_tuple=True)[0].item()\n",
    "\n",
    "position"
   ]
  },
  {
   "cell_type": "code",
   "execution_count": null,
   "metadata": {
    "vscode": {
     "languageId": "ruby"
    }
   },
   "outputs": [],
   "source": [
    "with open(f'./data/amazon/Movies_and_TV_text_name_dict.json.gz','rb') as ft:\n",
    "    text_name_dict = pickle.load(ft)"
   ]
  },
  {
   "cell_type": "code",
   "execution_count": 141,
   "metadata": {
    "vscode": {
     "languageId": "ruby"
    }
   },
   "outputs": [],
   "source": [
    "def find_item_text(item, title_flag=True, description_flag=True):\n",
    "    t = 'title'\n",
    "    d = 'description'\n",
    "    t_ = 'No Title'\n",
    "    d_ = 'No Description'\n",
    "    if title_flag and description_flag:\n",
    "        return [f'\"Title - {text_name_dict[t].get(i,t_)}, Description - {text_name_dict[d].get(i,d_)}\"' for i in item]\n",
    "    elif title_flag and not description_flag:\n",
    "        return [f'\"Title - {text_name_dict[t].get(i,t_)}\"' for i in item]\n",
    "    elif not title_flag and description_flag:\n",
    "        return [f'\"Description - {text_name_dict[d].get(i,d_)}\"' for i in item]"
   ]
  },
  {
   "cell_type": "code",
   "execution_count": 142,
   "metadata": {
    "vscode": {
     "languageId": "ruby"
    }
   },
   "outputs": [],
   "source": [
    "titles=find_item_text(sorted_items)"
   ]
  },
  {
   "cell_type": "code",
   "execution_count": 143,
   "metadata": {
    "vscode": {
     "languageId": "ruby"
    }
   },
   "outputs": [
    {
     "data": {
      "text/plain": [
       "['\"Title - New Tricks, Season 11, Description - RETIRED COPS SOLVE COLD CASES IN THIS HIT BRITISH SERIES<br><br>As this beloved British cop show returns, the old dogs of the Unsolved Crime and Open Case Squad (UCOS) have a new boss. Beautiful young DCI Sasha Miller (Tamzin Outhwaite, EastEnders) keeps a watchful eye on her motley crew of veteran detectives: Gerry Standing (Dennis Waterman, The Sweeney), Steve McAndrew (Denis Lawson, Bleak House), and Danny Griffin (Nicholas Lyndhurst, Only Fools and Horses). Although the show\\'s cast has changed over the years, they still solve daunting cases with classic sleuthing skills and more than a touch of gentle humor.<br><br>In Season 11, the team tackles crimes involving antinuclear protesters, battle reenactors, an amateur sleuth, illegal immigrants, and state secrets from the Cold War era. Guest stars include Julie Graham (The Bletchley Circle), David Hayman (The Paradise), Amy Nuttall (Downton Abbey), Liz White (Life on Mars), and Phil Davis (Whitechapel).<br><br>BONUS New Tricks-New Team featurette (22 min.)\"',\n",
       " '\"Title - THE FALL, SERIES 1, Description - A serial killer is on the loose...and only she can catch him. <br><br> Relentlessly original, consistently gripping <em>The Guardian</em> (U.K.)<br> Anderson is magnificent. <em>Daily Record</em> (U.K.) <br><br> Electrifying and terrifying <em>The Sunday Telegraph</em> (U.K.)<br> Fantastically gripping, unexpected, and creepy <em>Daily Mail</em> (U.K.) <br><br> Emmy<sup></sup> and Golden Globe<sup></sup> winner Gillian Anderson (<em>The X-Files</em>) smolders as a British detective summoned to Belfast to solve a high-profile murder. She quickly recognizes the signs of a serial killer, but the culprit (Jamie Dornan, <em>Once Upon a Time</em>) has already targeted his next victim. Over five engrossing episodes, this psychological thriller follows both the hunter and the hunted as they attempt to outmaneuver each other in an intriguing game of cat and mouse (<em>The Sunday Times</em>, U.K.). <br><br> Heralded as one of the best BBC dramas in years (<em>The Guardian</em>, U.K.), <em>The Fall</em> proves as riveting as it is unsettling, granting rare insight into the mind of a sociopath. Critics rave that Anderson is sublime, almost otherworldly, while Dornanmatches her for icy charisma (<em>Daily Mail</em>, U.K.). The stellar cast also features Archie Panjabi (<em>The Good Wife</em>) and John Lynch (<em>In the Name of the Father</em>). <br><br> Contains nudity, disturbing images, and sexual situations\"',\n",
       " '\"Title - Restless (2012) DVD, Description - A young woman finds out that her mother worked as a spy for the British Secret Service during World War II and has been on the run ever since.\"',\n",
       " '\"Title - Chasing Shadows anglais, Description - Chasing Shadows is a thrilling, new four-part ITV drama, set in a missing persons unit that hunts serial killers. Reece Shearsmith (The Widower, Inside Number 9, The League of Gentlemen) plays DS Sean Stone and his partner, Ruth Hattersley is played by Alex Kingston (Marchlands, Arrow, Upstairs Downstairs), whilst Noel Clarke (Star Trek Into Darkness, Doctor Who) takes on the role of DI Carl Prior. Sean is intense and socially awkward, a misfit who is happier dealing with data rather than people. \\'His lack of people skills and forthright honesty make him some powerful enemies in the force, and he finds himself exiled to missing persons. Sean\\'s new caseload is overwhelming - up to 300,000 people go missing in the UK each year--but his brilliant mind turns out to be perfectly adapted to his new role. Where others see a hopeless, ever-growing sea of lost faces, Sean spots patterns, that lead to victims... and their killers. Ruth is the analyst from the Missing Persons Bureau tasked with working alongside Sean. She puts people first - a born connecter able to get on with anyone, but Sean pushes even her patience to breaking point. DI Prior has ambitions and a clear plan for rising up the ranks. But all this is jeopardised when DS Stone becomes his responsibility.\"',\n",
       " '\"Title - Castles in the Sky BBC, Description - \"',\n",
       " '\"Title - Agatha Christie\\'s Partners In Crime, Description - Agatha Christies charming crime-solvers Tommy and Tuppence Beresford are an ordinary married couple living in 1950s Britain at the start of the Cold War. Sometimes bickering but always sweet on each other, they find themselves knee-deep in danger when they stumble into spy craft and end up being rather good at it. In these sparkling new BBC adaptations of two Christie novels, David Walliams (Little Britain) and Jessica Raine (Call the Midwife) portray the endearing pair whose quiet lives are upended by a chance encounter on a Paris train. In The Secret Adversary, they search for a missing woman and a recording that could unmask a Soviet hit man. In N or M? they must discover which person at a seaside guesthouse has stolen a nuclear bomb. Each thrilling adventure abounds with humor, international espionage, visual flair, and chic period fashion. Along with James Fleet (Four Weddings and a Funeral) as Tommys enigmatic uncle, guest stars include Clarke Peters (The Wire), Alice Krige (Tyrant), Ed Speleers (Downton Abbey), and Roy Marsden (P.D. James mysteries).\"']"
      ]
     },
     "execution_count": 143,
     "metadata": {},
     "output_type": "execute_result"
    }
   ],
   "source": [
    "titles_watched=[51104, 45790, 49177, 49966, 50352, 53458]\n",
    "titles_watched=find_item_text(titles_watched)\n",
    "titles_watched"
   ]
  },
  {
   "cell_type": "code",
   "execution_count": 144,
   "metadata": {
    "vscode": {
     "languageId": "ruby"
    }
   },
   "outputs": [
    {
     "data": {
      "text/plain": [
       "['\"Title - WWE: Brock Lesnar - Here Comes the Pain!, Description - Empty description\"',\n",
       " '\"Title - I Remember You, Description - LEAH is a PhD.D. student in Immunology. She has devoted her life to science and is determined to develop new treatments and cures for cancer. SAMUEL is a remarkably talented upcoming actor. One morning, Samuel is offered the opportunity of his lifetime: The lead role in a studio film. While celebrating, Samuel dares his best friend to a swimming contest in the ocean. Drunk and overpowered by waves, Samuel is pushed against the pylons of the Santa Monica Pier and suffers a concussion. As Samuel drowns, Leah jumps into the water and rescues him. One month later, Leah is unable to take a shower. She has developed a fear of water that is gradually taking over her life. Samuel is forced to put his acting career on hold as he struggles to cope with his inability to focus and with short-term memory problems as a consequence of the accident. Angry and deeply frustrated, Samuel decides to contact Leah, but not to thank her. When Leah and Samuel meet again, there is an immediate, almost supernatural rapport between the two. Both feel an overwhelming and inexplicable feeling of familiarity and comfort with each other, as if they had belonged together all along and they were suddenly unable to stay apart. As days go by and they continue to spend time together, their feelings for each other only intensify, despite Leah\\'s skepticism and effort to ignore them. As Leah\\'s fear of water continues to worsen, and her career and her sanity are at stake, she gradually discovers that her saving Samuel was not a coincidence, and that she and Samuel share an incredible past that, thanks to the accident, both are now beginning to remember...\"',\n",
       " '\"Title - The Best of She-Ra - Princess of Power, Description - This two-disc set includes the five best episodes of the long-running series She-Ra: Princess of Power, as voted on by fans. It also includes the 1985 feature film \"The Secret of the Sword.\" The set is packed with special features including a documentary featurette, a feature length audio commentary, a music video featurette, trivia, collectibles and more! She-Ra: Princess of Power first aired on television in 1985, as a female-directed spin-off of the popular He-Man and the Masters of the Universe.\"',\n",
       " '\"Title - Air Supply: Live in Hong Kong, Description - <span id=\"caseCorrespondence_27640764435_text\">\\'All Out Of Love\\', \\'Goodbye\\', \\'Making Love Out Of Nothing At All\\', \\'Lost In Love\\'... All of these songs form part of the collective memories of millions of people around the world. This is the first high definition live concert film of Air Supply. This amazing 2013 concert filmed in Hong Kong captures the magic, the power, the energy and the romance of a classic Air Supply performance.<br /><br />Track list: 1. Even the Nights Are Better 2. Just as I am 3. Every Woman in the World 4. Here I Am 5. Chances 6. Dance with Me 7. Desert, Sea, Sky 8. Power of Love 9. I Won\\'t Stop Loving You 10. Two Less Lonely People 11. The One That You Love 12. Lost in Love 13. Sweet Dreams 14. Making Love Out Of Nothing At All 15. Goodbye 16. All Out Of Love</span>\"',\n",
       " '\"Title - Baby Nick Jr. Curious Buddies - Let\\'s Move, Description - \"Let\\'s Move\" (12-36 mos.): There\\'s so much for babies to see and hear, during movement and dancing! Boogie to the beat, play games, discover different kinds of music, jump up and down, dance, clap, play, learn, and laugh along with Nick Jr. Baby\\'s Curious Buddies!\"',\n",
       " '\"Title - The Bible Collection - 12 DVD Set - TNT, Description - The Bible Collection from TNT. Complete 12 DVD Set includes: Jeremiah, Solomon, Genesis, Esther, Paul the Apostle, The Apocalypse, Samson and Delilah, Moses, Joseph, Jacob, David, and Abraham.\"',\n",
       " '\"Title - Black Work, Description - Leeds police constable Jo Gillespie (Sheridan Smith) is devastated when her husband, undercover officer Ryan (Kenny Doughty), is killed in suspicious circumstances. As she battles to stay strong for the benefit of daughter Melly (Honor Kneafsey) and stepson Hal (Oliver Woollford), Jo is urged by her bosses, DCI Will Hepburn (Douglas Henshall) and Chief Constable Carolyn Jarecki (Geraldine James), to leave it to her fellow officers to find the killer. But when the murder enquiry starts to uncover some dangerous secrets about Ryan, Jo\\'s faith in the police family of which she has been a part for so long is severely tested. No longer sure who to trust, Jo embarks on her own investigation with the help of friend and colleague Jack Clark (Matthew McNulty), but as they close in on the identity of Ryan\\'s killer, Jo\\'s hunt for the truth will put her own life in danger. <br /> <br />Written by Matt Charman (<em>Suite Francaise, Bridge of Spies</em>) and directed by Michael Samuels (<em>The Fear</em>, <em>Any Human Heart</em>), <em>Black Work </em>is a powerful crime thriller that takes the audience into the murky depths of undercover police work and tells the story of a woman willing to risk everything to protect her family.<br />\"',\n",
       " '\"Title -  Death Note Re-light Number 1, Description - <![CDATA[\"',\n",
       " '\"Title - John Lennon &amp; The Plastic Ono Band: Live in Toronto \\'69, Description - John Lennon & The Plastic Ono Band Live In Toronto &rsquo;69 is a rare look at one of the world&rsquo;s most influential popular artists at a pivotal moment in his career. Filmed on the eve of the release of the Abbey Road LP &mdash; the last Beatles album to be recorded &mdash; this is the only performance ever caught on film of John Lennon & the Plastic Ono Band. It had been three years since Lennon had performed onstage with The Beatles. Seemingly on a whim, John and wife Yoko Ono hopped on a plane with guitarist Eric Clapton, bassist Klaus Voormann and drummer Alan White to travel to the Toronto Rock &rsquo;N&rsquo; Roll Revival festival showcasing some of Lennon&rsquo;s early musical heroes &mdash; among them Bo Diddley, Jerry Lee Lewis, Chuck Berry and Little Richard. As it turned out, Lennon and the newly formed Plastic Ono Band played an equally significant role that night in the history of rock &rsquo;n&rsquo; roll, as it is widely believed this concert foreshadowed the official end of The Beatles. Captured by Academy Award&reg;&ndash;nominated director D.A. Pennebaker (The War Room, Don&rsquo;t Look Back, Monterey Pop), this concert film serves as one of the great historical documents in the career and life of John Lennon.\"',\n",
       " '\"Title - The Sergeant, Description - Master Sergeant Albert Callan (Rod Steiger) is one tough G.I. During World War II, he killed an enemy soldier with his bare hands. Now in postwar France, he wrests control of his army post away from an ineffective superior. But another Sergeant Callan lives behind the snarl and the stare: a man overwhelmed by his repressed attraction to a handsome young private (John Phillip Law). In this insightful exploration of homosexuality made in an era of widespread intolerance, Steiger (The Pawnbroker, In the Heat of the Night) gives a stunning performance - one both volcanic and nuanced - that illuminates Callan\\'s tragic, tormenting battle with his true nature.\"',\n",
       " '\"Title - In Celebration, Description - Utilizing the same brilliant cast as In Celebration\\'s original highly acclaimed Royal Court Theater run, director Lindsay Anderson (O Lucky Man, If) re-imagines his stage triumph into a riveting cinematic experience. Anderson grounds David Storye\\'s ferocious and poignant drama in a setting that is as realistic as the playwright\\'s caustic portrait of generational hypocrisy is universal. In their tiny house in a Yorkshire mining town, God-fearing and hard-working Mr. and Mrs. Shaw (Bill Owen and Constance Chapman) welcome their sons home to celebrate the couple\\'s fortieth wedding anniversary. But with each son\\'s arrival, more and more of the Shaw\\'s model blue collar family facade begins to chip away. Middle son Colin\\'s (James Bolam) engagement has placed him on the pat to a loveless marriage. Barely shouldering the burdens of his shattered artistic aspirations and his own family, Steven, the baby, brilliantly played by Brian Cox (Manhunter, 25th Hour), is on the threshold of a nervous breakdown. But the toaster tossed into this already scalding theatrical bath is Alan Bates (Georgy Girl, The Cherry Orchard) as eldest son Andrew. As father, mother and brothers futilely try to hide the truth from themselves and each other, Bates\\' Andrew tears into the Shaw family\\'s carefully maintained fictions with animal fury and all too human bitterness.\"',\n",
       " '\"Title - K-On: Season 1, Description - This K-ON! Season 1 collection contains episodes 1-14. Rock n\\' roll may never die, but the Sakuragoaka Girl\\'s High School Light Music Club might not be here to stay unless would-be drummer Ritsu Tainaka can find three more members to replace the graduated seniors. Determined to see that the beat goes on, Ritsu can get a little help from her friend Mio Akiyama on bass, and together they might be able to convince choir-inclined Tsumugi Kotobuki to join on the keyboards. But even then, they\\'ll still need a hero, preferably of the juke-box variety with stars in her eyes. Instead they find Yui Hirasawa, who\\'s looking for a club to join and who\\'s never held a guitar in her life. But when Yui does pick up a beat-up six-string, it feels good in her hands, and it doesn\\'t take long to understand that maybe she\\'s finally found a place where she belongs. Because you can\\'t stop the music when four girls share a dream, even if it\\'s something as crazy as someday playing at the famous Budokan. It\\'s going to be a long and winding road, but if they find their passion and follow their muse, they could go anywhere! Special Features: Clean Opening and Closing. Spoken Languages: English, Japanese, English subtitles.\"',\n",
       " '\"Title - Ex-Driver: Crossroads - Volume 2, Description - With lots of high-speed car chases, flashy driving maneuvers, and cleavage shots, this six-part OAV is ideal viewing for adolescent males. All that\\'s missing are interesting characters and credible stories. In the future, humans are passive passengers in self-propelled AI cars and trucks. But when a vehicle goes haywire or gets reprogrammed, the teenage eX-Drivers go into action. The tension between brash Lisa and half-pint Souichi continues from the last disc, aggravated by the arrival of motorcyclist-vamp Rei. In the two-part finale, ex-eX-Driver Joe Todo (\"he strayed from the path\") and his gang of punks terrorize the city with their gasoline-powered cars--until Souichi outsmarts them in a race. Joe sees the light and returns to the path of virtue--a conversion no more improbable than the rest of the story. (Rated 13 and older, but more appropriate for over 15: brief nudity, profanity, tobacco use, cartoon violence) <I>--Charles Solomon</I>\"',\n",
       " '\"Title - Winsor Pilates 5 VHS Set: Bun &amp; Thigh Sculpting, Ab Sculpting, Accelerated Body Sculpting, Basics Step-By-Step, 20 Minute Workout, Description - VHS 1: In the first part of the program, A.M. Pilates Mat Workout with Pilates master Jillian Hessel (running time: 25 MIN), you wake up and start your day with the gifts of energy and balance. This 25-minute, low-impact mat workout, designed to be performed first thing in the morning, is divided into three separate sections: \\n\\nBreathing: Start with seated warm-up exercises on a chair to align your body rhythm with your breath.\\n \\nConditioning: Follow through with a series of mat routines to strengthen abs, buttocks, legs, and the \"powerhouse\"  the back and abdominal muscles forming the vital core of the body\\'s strength and its center of gravity.\\n \\nCentering: Conclude with standing exercises to integrate the floorwork into good vertical alignment and healthy posture; VH2: P.M. Pilates (running time: 29:11), an evening workout taught by certified instructor Ana Cabn. This program, which is designed to unwind tense muscles and soothe the nervous system, is divided into Warm-up, Mat Work, and Calm-and-Relax sections. \\nIf you have a hectic lifestyle (and who doesn\\'t?), yet want to make sure you get a daily dose of healthy, invigorating exercise, then this two-part fitness video is perfect for you.\"',\n",
       " '\"Title - WWF: Royal Rumble 1991 VHS, Description - WWF Wrestling Video\"',\n",
       " '\"Title - The Invincible Six, Description - Plot Summary for \\nThe Invincible Six (1968)\\nBased on the story \"The Heroes of Yucca,\" The Invincible Six features a ragtag group of jewel thieves who become the unofficial guardians of a small Iranian village. When bandits attack the village, looking for the body of their former leader and his treasure map, the Invincible Six are there to save the day, wooing the local females and frustrating the new leader of the bandits.\\n\\nSummary written by Chris Holland\"',\n",
       " '\"Title - Live From Oxford: The Misdemeanour Tour, Description - UFO is an English heavy metal and<br>hard rock band, formed in 1969, which<br>became a transitional group between<br>early hard rock and the New Wave of<br>British heavy metal. This superb concert<br>performance was recorded at the Apollo<br>Theatre, Oxford in 1985 as part of the<br>band s Misdemeanour Tour. Enjoy an<br>evening of rock from one of the world s<br>most exciting live bands, ranked #84 on<br>VH1 s 100 Greatest Artists of Hard<br>Rock. Bonus features include a neverseen-<br>before photo gallery of the band s<br>performance.\"',\n",
       " '\"Title - Shiloh Falls, Description - SHILOH FALLS is an exhilarating tale of good versus evil set in the untamed wild west. Gritty lawman John Gaffney has finally tracked the murderous Dalton Taggert and his gang to the outpost town of Shiloh Falls. But before the fugitives can be brought to justice, a mysterious stranger appears in town, more powerful than any man. When there is no escaping his supernatural powers, the sworn enemies must pull together to fight true evil. The heart racing quest rides from the majestic frontier to a pulse pounding main street shoot em up for divine retribution.\"',\n",
       " '\"Title - The Undesirable, Description - The Undesirable, a silent film treasure thought to be lost forever, was recently discovered in the basement of the Hungarian House cultural center in New York and returned to Hungary for restoration. An eight-month restoration and digitization process was completed by the Hungarian Filmlab, with support from the Hungarian National Digital Archive and Film Institute and the Hungarian National Film Fun, and funded by the Hungarian National Film Foundation. Noted Hollywood producer Andrew Vajna (Terminator, Rambo, Nixon, Angel Heart) played a major role in overseeing the restoration process. The Undesirable features a newly commissioned score by Attila Pacsay (the renowned composer of cinematic pieces including the Academy Award nominated short The Maestro) performed by the Pannonia Symphony Orchestra, and conducted by Peter Illenyi.<br>Betty (Lili Berky, Duel For Nothing), a young woman living in the country, is told by her dying father that he is really her uncle and raised her as his own when her mother was sent to prison for killing her husband. Alone and not knowing her mother s fate, Betty travels to the city in search of work. There she finds employment as a maid in the house of a wealthy couple and their dashing son, Nick (Victor Varconi, For Whom The Bell Tolls), with whom she falls in love. When Betty is fired from her position after being unjustly accused of theft and escorted from the village, an ironic twist of fate propels the story forward with the sudden appearance of her mother Sarah (Mari Jszai, Bnk Bn) presumed dead but recently released from prison on a quest of her own to find her daughter.\"',\n",
       " '\"Title - Grand Designs Series 8, Description - \"']"
      ]
     },
     "execution_count": 144,
     "metadata": {},
     "output_type": "execute_result"
    }
   ],
   "source": [
    "titles"
   ]
  },
  {
   "cell_type": "code",
   "execution_count": 34,
   "metadata": {
    "vscode": {
     "languageId": "ruby"
    }
   },
   "outputs": [],
   "source": [
    "from src.utils import data_partition"
   ]
  },
  {
   "cell_type": "code",
   "execution_count": 44,
   "metadata": {
    "vscode": {
     "languageId": "ruby"
    }
   },
   "outputs": [],
   "source": [
    "dataset = data_partition(\"Movies_and_TV\")\n",
    "\n",
    "[user_train, user_valid, user_test, usernum, itemnum] = dataset"
   ]
  },
  {
   "cell_type": "code",
   "execution_count": 1,
   "metadata": {
    "vscode": {
     "languageId": "ruby"
    }
   },
   "outputs": [
    {
     "ename": "SyntaxError",
     "evalue": "invalid decimal literal (173860202.py, line 4)",
     "output_type": "error",
     "traceback": [
      "\u001b[0;36m  Cell \u001b[0;32mIn[1], line 4\u001b[0;36m\u001b[0m\n\u001b[0;31m    i[item] = +66torch.tensor(i[item]).to(device)\u001b[0m\n\u001b[0m                ^\u001b[0m\n\u001b[0;31mSyntaxError\u001b[0m\u001b[0;31m:\u001b[0m invalid decimal literal\n"
     ]
    }
   ],
   "source": [
    "from tqdm import tqdm\n",
    "for i in tqdm(dataset):\n",
    "    for item in i:\n",
    "        i[item] = +66torch.tensor(i[item]).to(device)"
   ]
  },
  {
   "cell_type": "code",
   "execution_count": 58,
   "metadata": {
    "vscode": {
     "languageId": "ruby"
    }
   },
   "outputs": [],
   "source": [
    "import copy\n",
    "import random\n",
    "import numpy as np\n",
    "import sys"
   ]
  },
  {
   "cell_type": "code",
   "execution_count": 59,
   "metadata": {
    "vscode": {
     "languageId": "ruby"
    }
   },
   "outputs": [],
   "source": [
    "def evaluate_valid_at_k(model, dataset, maxlen, k=10):\n",
    "    [train, valid, test, usernum, itemnum] = copy.deepcopy(dataset)\n",
    "    \n",
    "    NDCG = 0.0\n",
    "    HT = 0.0\n",
    "    precision = 0.0\n",
    "    recall = 0.0\n",
    "    valid_user = 0.0\n",
    "\n",
    "    if usernum > 10000:\n",
    "        users = random.sample(range(1, usernum + 1), 10000)\n",
    "    else:\n",
    "        users = range(1, usernum + 1)\n",
    "\n",
    "    for u in users:\n",
    "        if len(train[u]) < 1 or len(valid[u]) < 1: \n",
    "            continue\n",
    "\n",
    "        seq = np.zeros([maxlen], dtype=np.int32)\n",
    "        idx = maxlen - 1\n",
    "        for i in reversed(train[u]):\n",
    "            seq[idx] = i\n",
    "            idx -= 1\n",
    "            if idx == -1: break\n",
    "\n",
    "        rated = set(train[u])\n",
    "        rated.add(0)\n",
    "        item_idx = [valid[u][0]]\n",
    "        \n",
    "        for _ in range(100):\n",
    "            t = np.random.randint(1, itemnum + 1)\n",
    "            while t in rated: \n",
    "                t = np.random.randint(1, itemnum + 1)\n",
    "            item_idx.append(t)\n",
    "\n",
    "        # Move predictions to CPU before using NumPy operations\n",
    "        predictions = -model.predict(*[np.array(l) for l in [[u], [seq], item_idx]]).cpu().detach().numpy()\n",
    "        predictions = predictions[0]\n",
    "\n",
    "        # Get top-k items and move to CPU\n",
    "        top_k_items = predictions.argsort()[:k]\n",
    "\n",
    "        # Check if the validation item is in the top-k predictions\n",
    "        if valid[u][0] in [item_idx[i] for i in top_k_items]:\n",
    "            rank = np.where(top_k_items == 0)[0][0]\n",
    "            NDCG += 1 / np.log2(rank + 2)\n",
    "            HT += 1\n",
    "\n",
    "        # Precision, Recall, and F1 calculations\n",
    "        relevant = [item_idx[0]]\n",
    "        recommended = [item_idx[i] for i in top_k_items]\n",
    "        num_relevant_and_recommended = len(set(recommended) & set(relevant))\n",
    "        num_relevant = len(relevant)\n",
    "        num_recommended = len(recommended)\n",
    "\n",
    "        if num_relevant > 0:\n",
    "            precision += num_relevant_and_recommended / num_recommended\n",
    "            recall += num_relevant_and_recommended / num_relevant\n",
    "        valid_user += 1\n",
    "\n",
    "        if valid_user % 100 == 0:\n",
    "            print('.', end=\"\")\n",
    "            sys.stdout.flush()\n",
    "\n",
    "    precision /= valid_user\n",
    "    recall /= valid_user\n",
    "    F1 = 2 * (precision * recall) / (precision + recall) if (precision + recall) > 0 else 0\n",
    "    NDCG /= valid_user\n",
    "    HT /= valid_user\n",
    "\n",
    "    return NDCG, HT, precision, recall, F1"
   ]
  },
  {
   "cell_type": "code",
   "execution_count": 60,
   "metadata": {},
   "outputs": [
    {
     "name": "stdout",
     "output_type": "stream",
     "text": [
      "...................................................................................................test (NDCG@10: 0.4960, HR@10: 0.7176)\n"
     ]
    }
   ],
   "source": [
    "model.eval()\n",
    "t_test = evaluate_valid_at_k(model, dataset, maxlen=50)\n",
    "print('test (NDCG@10: %.4f, HR@10: %.4f)' % (t_test[0], t_test[1]))"
   ]
  },
  {
   "cell_type": "code",
   "execution_count": null,
   "metadata": {},
   "outputs": [
    {
     "name": "stdout",
     "output_type": "stream",
     "text": [
      "Plot saved: Movie_Lens_precision_at_10_continuous_plot.png\n",
      "Plot saved: Movie_Lens_recall_at_10_continuous_plot.png\n",
      "Plot saved: Movie_Lens_hit_rate_at_10_continuous_plot.png\n",
      "Plot saved: Movie_Lens_ndcg_at_10_continuous_plot.png\n",
      "Plot saved: Movie_Lens_f1_score_at_10_continuous_plot.png\n",
      "Plot saved: Movie_Lens_auc_continuous_plot.png\n",
      "Plot saved: Movie_Lens_precision_at_10_continuous_plot.png\n",
      "Plot saved: Movie_Lens_recall_at_10_continuous_plot.png\n",
      "Plot saved: Movie_Lens_hit_rate_at_10_continuous_plot.png\n",
      "Plot saved: Movie_Lens_ndcg_at_10_continuous_plot.png\n",
      "Plot saved: Movie_Lens_f1_score_at_10_continuous_plot.png\n",
      "Plot saved: Movie_Lens_auc_continuous_plot.png\n",
      "Plot saved: Movie_Lens_precision_at_10_continuous_plot.png\n",
      "Plot saved: Movie_Lens_recall_at_10_continuous_plot.png\n",
      "Plot saved: Movie_Lens_hit_rate_at_10_continuous_plot.png\n",
      "Plot saved: Movie_Lens_ndcg_at_10_continuous_plot.png\n",
      "Plot saved: Movie_Lens_f1_score_at_10_continuous_plot.png\n",
      "Plot saved: Movie_Lens_auc_continuous_plot.png\n",
      "All plots have been generated and saved.\n"
     ]
    }
   ],
   "source": [
    "import os\n",
    "import re\n",
    "import pandas as pd\n",
    "import matplotlib.pyplot as plt\n",
    "\n",
    "# Folder containing the CSV files\n",
    "folder_path = \"/home/reuben/reuben_code/Pytorch/LLM-Rec-Sys/FARF/data/file_saver_prime\"\n",
    "\n",
    "# Metrics to plot\n",
    "metrics = [\"precision_at_10\", \"recall_at_10\", \"hit_rate_at_10\", \"ndcg_at_10\", \"f1_score_at_10\", \"auc\"]\n",
    "\n",
    "# Create a color map for different clients\n",
    "color_map = {}\n",
    "\n",
    "# Extract client name and round from filename using regex\n",
    "pattern = r\"metrics_(.+)_(.+?)_(\\d+).csv\"  # matches dataset, client_name, round number\n",
    "\n",
    "# Dictionary to store data for each (dataset, metric) pair\n",
    "data_dict = {}\n",
    "\n",
    "# Collect data from CSV files\n",
    "for filename in sorted(os.listdir(folder_path), key=lambda x: int(re.search(pattern, x).group(3)) if re.search(pattern, x) else float('inf')):\n",
    "    match = re.search(pattern, filename)\n",
    "    if match:\n",
    "        dataset, client_name, round_number = match.groups()\n",
    "        round_number = int(round_number)\n",
    "        \n",
    "        # Assign a color for each client (new client gets a new color)\n",
    "        if client_name not in color_map:\n",
    "            color_map[client_name] = f\"C{len(color_map)}\"  # Matplotlib color cycle\n",
    "        \n",
    "        # Read CSV file\n",
    "        file_path = os.path.join(folder_path, filename)\n",
    "        data = pd.read_csv(file_path)\n",
    "        \n",
    "        # Initialize data structure for each dataset and metric if not already\n",
    "        if (dataset, client_name) not in data_dict:\n",
    "            data_dict[(dataset, client_name)] = {metric: [] for metric in metrics}\n",
    "        \n",
    "        # Append each metric data and round number for continuous plotting\n",
    "        for metric in metrics:\n",
    "            data_dict[(dataset, client_name)][metric].append((round_number, data[\"epoch\"] + (round_number - 1) * max(data[\"epoch\"]), data[metric]))\n",
    "\n",
    "# Plotting each metric for each dataset with clients in different colors\n",
    "for (dataset, client_name), metric_data in data_dict.items():\n",
    "    for metric in metrics:\n",
    "        plt.figure(figsize=(10, 6))\n",
    "        \n",
    "        # Plot each round in a continuous fashion by iterating over appended data\n",
    "        for round_num, epoch_vals, metric_vals in metric_data[metric]:\n",
    "            plt.plot(epoch_vals, metric_vals, marker='o', linestyle='-', color=color_map[client_name],\n",
    "                     label=f\"{client_name} - Round {round_num}\" if round_num == 1 else \"\")\n",
    "        \n",
    "        # Labeling and title\n",
    "        plt.xlabel(\"Epoch\")\n",
    "        plt.ylabel(metric.capitalize())\n",
    "        plt.title(f\"{metric.capitalize()} over Rounds for Dataset: {dataset}\")\n",
    "        plt.legend(loc='best')\n",
    "        plt.grid(True)\n",
    "        \n",
    "        # Save the plot to a file\n",
    "        plot_filename = f\"{dataset}_{metric}_continuous_plot.png\"\n",
    "        plt.savefig(os.path.join(folder_path, plot_filename))\n",
    "        plt.close()  # Close the plot to avoid memory issues\n",
    "        \n",
    "        print(f\"Plot saved: {plot_filename}\")\n",
    "\n",
    "print(\"All plots have been generated and saved.\")\n"
   ]
  },
  {
   "cell_type": "code",
   "execution_count": 6,
   "metadata": {},
   "outputs": [],
   "source": [
    "import pandas as pd\n",
    "import matplotlib.pyplot as plt\n",
    "import seaborn as sns\n",
    "\n",
    "def plot_metrics_overlay(dataframes, client_names=None):\n",
    "    \"\"\"\n",
    "    Plot overlayed metrics for multiple client runs.\n",
    "    \n",
    "    Parameters:\n",
    "    dataframes (list): List of pandas DataFrames containing metrics data\n",
    "    client_names (list): Optional list of client names for the legend\n",
    "    \"\"\"\n",
    "    \n",
    "    # Set the style\n",
    "    plt.style.use('seaborn')\n",
    "    \n",
    "    # Create figure and axis with appropriate size\n",
    "    fig, ((ax1, ax2), (ax3, ax4)) = plt.subplots(2, 2, figsize=(15, 12))\n",
    "    fig.suptitle('Training Metrics Across Different Client Runs', fontsize=16, y=0.95)\n",
    "    \n",
    "    # If client names not provided, generate default ones\n",
    "    if client_names is None:\n",
    "        client_names = [f'Client {i+1}' for i in range(len(dataframes))]\n",
    "    \n",
    "    # Colors for different clients\n",
    "    colors = sns.color_palette(\"husl\", n_colors=len(dataframes))\n",
    "    \n",
    "    # Plot each metric for each client\n",
    "    for idx, df in enumerate(dataframes):\n",
    "        # Precision\n",
    "        ax1.plot(df['epoch'], df['precision_at_10'], \n",
    "                label=client_names[idx], color=colors[idx])\n",
    "        ax1.set_title('Precision@10')\n",
    "        ax1.set_xlabel('Epoch')\n",
    "        ax1.set_ylabel('Precision')\n",
    "        ax1.grid(True, alpha=0.3)\n",
    "        \n",
    "        # Recall\n",
    "        ax2.plot(df['epoch'], df['recall_at_10'], \n",
    "                label=client_names[idx], color=colors[idx])\n",
    "        ax2.set_title('Recall@10')\n",
    "        ax2.set_xlabel('Epoch')\n",
    "        ax2.set_ylabel('Recall')\n",
    "        ax2.grid(True, alpha=0.3)\n",
    "        \n",
    "        # Hit Rate\n",
    "        ax3.plot(df['epoch'], df['hit_rate_at_10'], \n",
    "                label=client_names[idx], color=colors[idx])\n",
    "        ax3.set_title('Hit Rate@10')\n",
    "        ax3.set_xlabel('Epoch')\n",
    "        ax3.set_ylabel('Hit Rate')\n",
    "        ax3.grid(True, alpha=0.3)\n",
    "        \n",
    "        # NDCG\n",
    "        ax4.plot(df['epoch'], df['ndcg_at_10'], \n",
    "                label=client_names[idx], color=colors[idx])\n",
    "        ax4.set_title('NDCG@10')\n",
    "        ax4.set_xlabel('Epoch')\n",
    "        ax4.set_ylabel('NDCG')\n",
    "        ax4.grid(True, alpha=0.3)\n",
    "    \n",
    "    # Add legend to the figure\n",
    "    handles, labels = ax1.get_legend_handles_labels()\n",
    "    fig.legend(handles, labels, loc='center right', bbox_to_anchor=(0.98, 0.5))\n",
    "    \n",
    "    # Adjust layout to prevent overlap\n",
    "    plt.tight_layout(rect=[0, 0, 0.95, 0.95])\n",
    "    \n",
    "    return fig"
   ]
  },
  {
   "cell_type": "code",
   "execution_count": 11,
   "metadata": {},
   "outputs": [],
   "source": [
    "from src.utils import data_partition\n",
    "\n",
    "text_file_path=f'./data/CiteULike/output3.txt'\n",
    "    \n",
    "[user_train, user_valid, user_test, usernum, itemnum] = data_partition(f'CiteULike',text_file_path)"
   ]
  },
  {
   "cell_type": "code",
   "execution_count": 12,
   "metadata": {},
   "outputs": [
    {
     "data": {
      "text/plain": [
       "(13583, 5550)"
      ]
     },
     "execution_count": 12,
     "metadata": {},
     "output_type": "execute_result"
    }
   ],
   "source": [
    "usernum, itemnum"
   ]
  },
  {
   "cell_type": "code",
   "execution_count": 13,
   "metadata": {},
   "outputs": [
    {
     "data": {
      "text/plain": [
       "13583"
      ]
     },
     "execution_count": 13,
     "metadata": {},
     "output_type": "execute_result"
    }
   ],
   "source": [
    "max(user_train.keys())"
   ]
  },
  {
   "cell_type": "code",
   "execution_count": null,
   "metadata": {},
   "outputs": [],
   "source": []
  }
 ],
 "metadata": {
  "kernelspec": {
   "display_name": "nvflare-env",
   "language": "python",
   "name": "python3"
  },
  "language_info": {
   "codemirror_mode": {
    "name": "ipython",
    "version": 3
   },
   "file_extension": ".py",
   "mimetype": "text/x-python",
   "name": "python",
   "nbconvert_exporter": "python",
   "pygments_lexer": "ipython3",
   "version": "3.10.12"
  }
 },
 "nbformat": 4,
 "nbformat_minor": 2
}
